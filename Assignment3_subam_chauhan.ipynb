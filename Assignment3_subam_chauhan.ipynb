{
  "cells": [
    {
      "cell_type": "markdown",
      "metadata": {
        "id": "view-in-github",
        "colab_type": "text"
      },
      "source": [
        "<a href=\"https://colab.research.google.com/github/Schauhan21/DL/blob/main/Assignment3_subam_chauhan.ipynb\" target=\"_parent\"><img src=\"https://colab.research.google.com/assets/colab-badge.svg\" alt=\"Open In Colab\"/></a>"
      ]
    },
    {
      "cell_type": "markdown",
      "metadata": {
        "id": "dBrsmrxH1L0t"
      },
      "source": [
        "# 521153S Deep Learning assignment 3: Dataset and Convolutional Neural Networks\n",
        "\n"
      ]
    },
    {
      "cell_type": "markdown",
      "metadata": {
        "id": "HQA-GnSe1L0x"
      },
      "source": [
        "This assignment is designed by Lam Huynh.\n",
        "\n",
        "## Outline \n",
        "#### In this assignment, you will learn:\n",
        "* Writing customer dataset in Pytorch with training, validation and testing data.\n",
        "* Building a Convolutional Neural Network (CNN) in Pytorch.\n",
        "* Training and testing your CNN in Pytorch.\n",
        "\n",
        "#### Tasks (<span style=\"color:green\">15 points or more</span>)\n",
        "* **Part 1.** Writing a customer dataset based on [**Fashion-MNIST**](https://github.com/zalandoresearch/fashion-mnist). Spliting the whole dataset into 3 parts: training, validation and testing. (<span style=\"color:green\">5.5 points</span>)\n",
        "    * 1.1. Define a Dataset class (<span style=\"color:green\">2 points</span>)\n",
        "    * 1.2. Dataset checking (<span style=\"color:green\">2.5 points</span>)\n",
        "    * 1.3. Iterating through the dataset with batches (<span style=\"color:green\">1 points</span>)<br>\n",
        "* **Part 2.** Build a CNN on your own. (<span style=\"color:green\">3.5 points</span>) <br>\n",
        "* **Part 3.** Train and test your CNN. (<span style=\"color:green\">6 points or more</span>)\n",
        "    * 3.1. Create functions for train and evaluation (<span style=\"color:green\">2.5 points</span>) <br>\n",
        "    * 3.2. Train and test your network (<span style=\"color:green\">1.5 point</span>) <br>\n",
        "    * 3.3. Modification for your training (<span style=\"color:green\">1 point or more</span>) <br>\n",
        "    * Question: give your ideas to accelerate your training process (<span style=\"color:green\">1 points or more</span>)\n",
        "\n",
        "\n",
        "#### Environment\n",
        "Python 3, Numpy, matplotlib, torch, torchvision\n",
        "\n",
        "#### Dataset\n",
        "* [**Fashion-MNIST**](https://github.com/zalandoresearch/fashion-mnist)\n",
        "is a dataset of Zalando's article images—consisting of a training set of 60,000 examples and a test set of 10,000 examples. Here we are to split the 60,000 images in the predefined training set into a new training set with 50,000 images and a validation set with 10,000 images. Each example is a 28x28 grayscale image, associated with a label from 10 classes. We intend Fashion-MNIST to serve as a direct drop-in replacement for the original MNIST dataset for benchmarking machine learning algorithms. It shares the same image size and structure of training, validation and testing splits. Using the Fashion-MNIST give you more room to wiggle your experiments.\n",
        "\n",
        "#### Hints\n",
        "* To find the place where you have to insert your solution, hit Crtl + F and search for **TODO:** . You are not supposed to modify the codes from other parts.\n",
        "* Be careful with the shapes of the tensors flowing through the CNN model, making all the operations have compatible inputs and outputs. "
      ]
    },
    {
      "cell_type": "markdown",
      "metadata": {
        "id": "Ibf0cr6v1L0z"
      },
      "source": [
        "## Part 1. Writing a customer dataset with Pytorch (<span style=\"color:green\">5.5 points</span>)\n",
        "**Requirement**: Download the Fashion-MNIST dataset, which contains 60,000 images in the predefined training set and 10,000 images in the testing set. Our goal is to write a customer dataset that could be loaded by [torch.utils.data.DataLoader](https://pytorch.org/tutorials/beginner/data_loading_tutorial.html#iterating-through-the-dataset). The 60,000 images in the predefined training set should be splited into a new training set and a validation set as mentioned above. ***Specifically, there are same number of images for each class both in the new training set and the validation set.*** I.e, in the new training set which has in total 10 classes and 50,000 image samples, each class has 5000 image samples while in the validation set, each class has 1000 samples."
      ]
    },
    {
      "cell_type": "markdown",
      "metadata": {
        "id": "_s8l2o1a1L00"
      },
      "source": [
        "### Part 1.1. Define a Dataset class (<span style=\"color:green\">2 points</span>)\n",
        "torch.utils.data.Dataset is an abstract class representing a dataset. Your custom dataset should inherit `torch.utils.data.Dataset` and override the following methods:\n",
        "* `__len__` so that len(dataset) returns the size of the dataset (size means the number of samples in the dataset).\n",
        "* `__getitem__` to support the indexing such that dataset[i] can be used to get ith sample\n",
        "\n",
        "Let’s create a dataset class for our fashion MNIST dataset. We will download the dataset from google drive following Assignment2 firstly. Then, split the training set in `__init__`, return the size of this dataset in `__len__` and get each item in `__getitem__`. "
      ]
    },
    {
      "cell_type": "code",
      "execution_count": null,
      "metadata": {
        "id": "uwT3n9NJ1L01",
        "outputId": "6aeb6236-91fe-4318-b5a5-7279d2618533"
      },
      "outputs": [
        {
          "name": "stdout",
          "output_type": "stream",
          "text": [
            "Data was already downloaded and extracted!\n"
          ]
        }
      ],
      "source": [
        "# import necessary packages\n",
        "import os \n",
        "import torch \n",
        "import requests, zipfile, sys\n",
        "import numpy as np\n",
        "import matplotlib.pyplot as plt \n",
        "from torch.utils.data import Dataset, DataLoader\n",
        "from download_fashion_mnist import download_fm\n",
        "import torchvision\n",
        "from PIL import Image\n",
        "import torch\n",
        "import torch.nn as nn\n",
        "import torch.nn.functional as F\n",
        "import torch.optim as optim\n",
        "from torchvision import transforms\n",
        "\n",
        "\n",
        "# Download fashion_MNIST from google drive and creating indices for training and validation set\n",
        "root_dir='data'\n",
        "download_fm(root_dir)\n",
        "      \n",
        "data_dir = os.path.join(root_dir, 'fashion_mnist_npy')\n",
        "\n",
        "train_data = np.load(os.path.join(data_dir, 'train_data.npy'))\n",
        "test_data = np.load(os.path.join(data_dir, 'test_data.npy'))\n",
        "train_label = np.load(os.path.join(data_dir, 'train_labels.npy'))\n",
        "test_label = np.load(os.path.join(data_dir, 'test_labels.npy'))\n",
        "\n",
        "# split the training data to a new training data and validation data\n",
        "class_indices = [[] for i in range(10)]\n",
        "\n",
        "for i, v in enumerate(train_label):\n",
        "    class_indices[v].append(i)\n",
        "\n",
        "indices_all = np.random.permutation(len(class_indices[0]))\n",
        "# take the first 1000 indices of indices_all\n",
        "indices = indices_all[:1000]\n",
        "# take the rest of the indices of indices_all\n",
        "indices_rest = indices_all[1000:]\n",
        "\n",
        "valid_indices = []\n",
        "train_indices = []\n",
        "for i in range(10):\n",
        "    # build indices for validation set\n",
        "    valid_indices.extend(np.array(class_indices[i])[indices])\n",
        "    # TODO: build indices for training set (0.25 points)\n",
        "    # your code here \n",
        "    train_indices.extend(np.array(class_indices[i])[indices_rest])\n",
        "\n",
        "# write the customer dataset based on the downloaded data and the indices\n",
        "class FashionMnist(Dataset):\n",
        "    \"\"\"Fashion Mnist dataset\"\"\" \n",
        "\n",
        "    def __init__(self, phase='train', transform=None):\n",
        "        # download fashion_mnist data following Assignment2\n",
        "\n",
        "        # TODO: now, split the predefined training data (1.5 points)\n",
        "        if 'train' == phase:\n",
        "            # your code here\n",
        "            self.data = train_data[train_indices]\n",
        "            self.label = train_label[train_indices]\n",
        "        elif 'valid' == phase:\n",
        "            self.data = train_data[valid_indices]\n",
        "            self.label = train_label[valid_indices]\n",
        "\n",
        "        elif 'test' == phase:\n",
        "            self.data = test_data\n",
        "            self.label = test_label\n",
        "\n",
        "        else:\n",
        "            assert True, 'wrong phase'\n",
        "            \n",
        "\n",
        "        self.transform = transform \n",
        "        \n",
        "        self.label_names = ['T-shirt/top', 'Trouser', 'Pullover', 'Dress', 'Coat', \n",
        "               'Sandal', 'Shirt', 'Sneaker', 'Bag', 'Ankle boot']\n",
        "\n",
        "    def __len__(self):\n",
        "        return len(self.data)\n",
        "\n",
        "    def __getitem__(self, index):\n",
        "        \n",
        "        # TODO: get image and label according to the index (0.25 points)\n",
        "        # your code here \n",
        "        img, label = self.data[index], self.label[index]\n",
        "\n",
        "        # doing this so that it is consistent with all other datasets\n",
        "        # to return a PIL Image\n",
        "        img = Image.fromarray(img, mode='L')\n",
        "\n",
        "        if self.transform is not None:\n",
        "            img = self.transform(img)\n",
        "\n",
        "        return img, label"
      ]
    },
    {
      "cell_type": "markdown",
      "metadata": {
        "id": "KzK1YQCL1L03"
      },
      "source": [
        "### Part 1.2. Dataset checking (<span style=\"color:green\">2.5 points</span>)\n",
        "First, randomly show some images in training, validation and testing data and check if the images have correct labels.<br>\n",
        "Secondly, check the number of images for each class, to make sure the dataset created correctly."
      ]
    },
    {
      "cell_type": "code",
      "execution_count": null,
      "metadata": {
        "scrolled": false,
        "id": "ZN1krhPO1L03",
        "outputId": "33a8d4c1-f990-42cf-90d5-b078a8470935"
      },
      "outputs": [
        {
          "data": {
            "image/png": "[encoded data removed]",
            "text/plain": [
              "<Figure size 1152x576 with 5 Axes>"
            ]
          },
          "metadata": {
            "needs_background": "light"
          },
          "output_type": "display_data"
        },
        {
          "name": "stdout",
          "output_type": "stream",
          "text": [
            "total number of training set: 50000\n",
            "numer of images for class T-shirt/top: 5000\n",
            "numer of images for class Trouser: 5000\n",
            "numer of images for class Pullover: 5000\n",
            "numer of images for class Dress: 5000\n",
            "numer of images for class Coat: 5000\n",
            "numer of images for class Sandal: 5000\n",
            "numer of images for class Shirt: 5000\n",
            "numer of images for class Sneaker: 5000\n",
            "numer of images for class Bag: 5000\n",
            "numer of images for class Ankle boot: 5000\n"
          ]
        }
      ],
      "source": [
        "# checking training set\n",
        "# randomly show some samples and their labels\n",
        "# TODO: create a FashionMnist dataset for training, set transform to None (0.5 points)\n",
        "# your code here\n",
        "train_set =  FashionMnist(phase='train', transform=None)#this is the first 0.25 points, see the rest 0.25 points in Part 1.3\n",
        "\n",
        "num_to_show = 5\n",
        "idx = np.random.choice(range(len(train_set)), num_to_show, replace=False) # randomly pick 5 pictures to show\n",
        "\n",
        "fig = plt.figure(figsize=(16, 8))\n",
        "\n",
        "for i in range(len(idx)):\n",
        "    image, label = train_set[idx[i]]\n",
        "    label_name = train_set.label_names[label]\n",
        "\n",
        "    ax = plt.subplot(1, num_to_show, i + 1)\n",
        "    plt.tight_layout()\n",
        "    ax.set_title('class #{}'.format(label_name))\n",
        "    ax.axis('off')\n",
        "    plt.imshow(np.asarray(image))\n",
        "\n",
        "plt.show()\n",
        "\n",
        "# print number of images for each class\n",
        "print('total number of training set: {}'.format(len(train_set)))\n",
        "for i in range(10):\n",
        "    print('numer of images for class {}: {}'.format(train_set.label_names[i], np.sum(train_set.label==i)))"
      ]
    },
    {
      "cell_type": "code",
      "execution_count": null,
      "metadata": {
        "id": "A-gBn5yG1L04",
        "outputId": "cc2363b6-5306-4943-b512-b9b09de49c4a"
      },
      "outputs": [
        {
          "data": {
            "image/png": "[encoded data removed]",
            "text/plain": [
              "<Figure size 1152x576 with 5 Axes>"
            ]
          },
          "metadata": {
            "needs_background": "light"
          },
          "output_type": "display_data"
        },
        {
          "name": "stdout",
          "output_type": "stream",
          "text": [
            "total number of validation set: 50000\n",
            "numer of images for class T-shirt/top: 5000\n",
            "numer of images for class Trouser: 5000\n",
            "numer of images for class Pullover: 5000\n",
            "numer of images for class Dress: 5000\n",
            "numer of images for class Coat: 5000\n",
            "numer of images for class Sandal: 5000\n",
            "numer of images for class Shirt: 5000\n",
            "numer of images for class Sneaker: 5000\n",
            "numer of images for class Bag: 5000\n",
            "numer of images for class Ankle boot: 5000\n"
          ]
        }
      ],
      "source": [
        "# TODO:checking validation data (1 points)\n",
        "# your code here, like the training set, the output in this section should be like this (you can have your own visualization style)\n",
        "valid_set =  FashionMnist(phase='valid', transform=None)\n",
        "\n",
        "num_to_show = 5\n",
        "idx = np.random.choice(range(len(valid_set)), num_to_show, replace=False) # randomly pick 5 pictures to show\n",
        "\n",
        "fig = plt.figure(figsize=(16, 8))\n",
        "\n",
        "for i in range(len(idx)):\n",
        "    image, label = train_set[idx[i]]\n",
        "    label_name = train_set.label_names[label]\n",
        "\n",
        "    ax = plt.subplot(1, num_to_show, i + 1)\n",
        "    plt.tight_layout()\n",
        "    ax.set_title('class #{}'.format(label_name))\n",
        "    ax.axis('off')\n",
        "    plt.imshow(np.asarray(image))\n",
        "\n",
        "plt.show()\n",
        "\n",
        "# print number of images for each class\n",
        "print('total number of validation set: {}'.format(len(train_set)))\n",
        "for i in range(10):\n",
        "    print('numer of images for class {}: {}'.format(train_set.label_names[i], np.sum(train_set.label==i)))"
      ]
    },
    {
      "cell_type": "code",
      "execution_count": null,
      "metadata": {
        "id": "P9pzBHWT1L05",
        "outputId": "4a73defe-6af1-4480-b4f5-8ad47519e352"
      },
      "outputs": [
        {
          "data": {
            "image/png": "[encoded data removed]",
            "text/plain": [
              "<Figure size 1152x576 with 5 Axes>"
            ]
          },
          "metadata": {
            "needs_background": "light"
          },
          "output_type": "display_data"
        },
        {
          "name": "stdout",
          "output_type": "stream",
          "text": [
            "total number of test set: 50000\n",
            "numer of images for class T-shirt/top: 5000\n",
            "numer of images for class Trouser: 5000\n",
            "numer of images for class Pullover: 5000\n",
            "numer of images for class Dress: 5000\n",
            "numer of images for class Coat: 5000\n",
            "numer of images for class Sandal: 5000\n",
            "numer of images for class Shirt: 5000\n",
            "numer of images for class Sneaker: 5000\n",
            "numer of images for class Bag: 5000\n",
            "numer of images for class Ankle boot: 5000\n"
          ]
        }
      ],
      "source": [
        "# TODO: checking testing data (1 points)\n",
        "# your code here\n",
        "test_set =  FashionMnist(phase='test', transform=None)\n",
        "\n",
        "num_to_show = 5\n",
        "idx = np.random.choice(range(len(test_set)), num_to_show, replace=False) # randomly pick 5 pictures to show\n",
        "\n",
        "fig = plt.figure(figsize=(16, 8))\n",
        "\n",
        "for i in range(len(idx)):\n",
        "    image, label = train_set[idx[i]]\n",
        "    label_name = train_set.label_names[label]\n",
        "\n",
        "    ax = plt.subplot(1, num_to_show, i + 1)\n",
        "    plt.tight_layout()\n",
        "    ax.set_title('class #{}'.format(label_name))\n",
        "    ax.axis('off')\n",
        "    plt.imshow(np.asarray(image))\n",
        "\n",
        "plt.show()\n",
        "\n",
        "# print number of images for each class\n",
        "print('total number of test set: {}'.format(len(train_set)))\n",
        "for i in range(10):\n",
        "    print('numer of images for class {}: {}'.format(train_set.label_names[i], np.sum(train_set.label==i)))"
      ]
    },
    {
      "cell_type": "markdown",
      "metadata": {
        "id": "XD2wmaEn1L06"
      },
      "source": [
        "### Part 1.3. Iterating through the dataset with batches (<span style=\"color:green\">1 points</span>)\n",
        "Here, we add more features with the help of [DataLoader](https://pytorch.org/tutorials/beginner/data_loading_tutorial.html#iterating-through-the-dataset):\n",
        "* Batching the data\n",
        "* Shuffling the data\n",
        "* Load the data in parallel using multiprocessing workers.\n",
        "\n",
        "`torch.utils.data.DataLoader` is an iterator which provides all these features. Parameters used below should be clear. One parameter of interest is collate_fn. You can specify how exactly the samples need to be batched using collate_fn. However, default collate should work fine for most use cases.\n",
        "\n",
        "The `DataLoader` takes as input an instance of `FashionMnist` we defined in Part 1.1. Since images in the dataset currently are all in PIL format, we have to convert them to torch.Tensor by using a transform. Actually, `transform` is often used for data augmentation, further illustrations of `transform` can be found in [https://pytorch.org/tutorials/beginner/data_loading_tutorial.html#writing-custom-datasets-dataloaders-and-transforms](https://pytorch.org/tutorials/beginner/data_loading_tutorial.html#writing-custom-datasets-dataloaders-and-transforms)."
      ]
    },
    {
      "cell_type": "code",
      "execution_count": null,
      "metadata": {
        "id": "6q_vVxuh1L06"
      },
      "outputs": [],
      "source": [
        "# Set batch_size to 64, shuffling the training set. Number of workers here is set to 0. If your system is Linux, \n",
        "# it is possible to try more workers to do multi-process parallel reading.\n",
        "data_transform = transforms.Compose([transforms.ToTensor()])\n",
        "train_set = FashionMnist(phase='train', transform=data_transform) #the other 0.25 points for create a FashionMnist dataset for training\n",
        "train_loader = DataLoader(train_set, batch_size=64, shuffle=True, num_workers=0)\n",
        "\n",
        "# TODO: create test_loader and valid_loader, both with no shuffling (1 points)\n",
        "# your code here \n",
        "valid_set = FashionMnist(phase='valid', transform=data_transform)\n",
        "valid_loader = DataLoader(valid_set, batch_size=64, shuffle=False, num_workers=0)\n",
        "\n",
        "test_set = FashionMnist(phase='test', transform=data_transform)\n",
        "test_loader = DataLoader(test_set, batch_size=64, shuffle=False, num_workers=0)"
      ]
    },
    {
      "cell_type": "markdown",
      "metadata": {
        "id": "94-VHmpA1L07"
      },
      "source": [
        "## Part 2. Build a CNN on your own (<span style=\"color:green\">3.5 points</span>)\n",
        "Structure of the CNN (**Conv**: convolutional layer, **BN**: Batch Normalization layer, **Max_Pool**: max pooling layer, **FC**: fully connected layer, batch_size=64):\n"
      ]
    },
    {
      "cell_type": "markdown",
      "metadata": {
        "id": "3ixef6g_1L07"
      },
      "source": [
        "To define your own Network, following the rule of thumb:\n",
        "1. Define the layers in `__init__`.\n",
        "2. Do the forward calculation in `forward`."
      ]
    },
    {
      "cell_type": "code",
      "execution_count": null,
      "metadata": {
        "id": "5ohQqUGf1L07"
      },
      "outputs": [],
      "source": [
        "class Network(nn.Module):\n",
        "    def __init__(self, num_classes):\n",
        "        super().__init__() \n",
        "\n",
        "        # define layers \n",
        "        self.conv1 = nn.Conv2d(in_channels=1, out_channels=8, kernel_size=3, padding=1)\n",
        "        self.bn1 = nn.BatchNorm2d(8)\n",
        "        self.relu1 = nn.ReLU()\n",
        "        self.max_pool1 = nn.MaxPool2d(kernel_size=2, stride=2)\n",
        "        \n",
        "        # TODO: rest of layers (1.5 points)  \n",
        "        # your code here\n",
        "        self.conv2 = nn.Conv2d(in_channels=8, out_channels=18, kernel_size=3, padding=1)\n",
        "        self.bn2 = nn.BatchNorm2d(18)\n",
        "        self.relu2 = nn.ReLU()\n",
        "        self.max_pool2 = nn.MaxPool2d(kernel_size=2, stride=2)\n",
        "        self.fc3 = nn.Linear(in_features=882, out_features=128)\n",
        "        self.relu3 = nn.ReLU()\n",
        "        self.fc4 = nn.Linear(in_features=128, out_features=10)\n",
        "\n",
        "    def forward(self, x):\n",
        "        x = self.conv1(x)\n",
        "        x = self.bn1(x)\n",
        "        x = self.relu1(x)     \n",
        "        x = self.max_pool1(x)\n",
        "        \n",
        "        # TODO: fill the rest part, you may need more lines like x = ... (2 points)\n",
        "        # your code here\n",
        "        x = self.conv2(x)\n",
        "        x = self.bn2(x)\n",
        "        x = self.relu2(x)     \n",
        "        x = self.max_pool2(x)\n",
        "\n",
        "        x = x.reshape(x.shape[0], -1)\n",
        "\n",
        "        x = self.fc3(x)\n",
        "        x = self.relu3(x)     \n",
        "        x = self.fc4(x)\n",
        "\n",
        "        return x\n",
        "    "
      ]
    },
    {
      "cell_type": "markdown",
      "metadata": {
        "id": "V1TUJfhG1L08"
      },
      "source": [
        "## Part 3. Train and test your CNN model (<span style=\"color:green\">6 points or more</span>)\n",
        "### Part 3.1. Create functions for train and evaluation (<span style=\"color:green\">2.5 points</span>)\n",
        "* Instantiate a network.\n",
        "* When training, create an optimizer to take care of network's parameters, calculate the loss and accuracy.\n",
        "* When evaluation, only need to claculate the accuracy."
      ]
    },
    {
      "cell_type": "code",
      "execution_count": null,
      "metadata": {
        "id": "gL7X8hid1L08"
      },
      "outputs": [],
      "source": [
        "# instantiate a network\n",
        "net = Network(num_classes=10)\n",
        "\n",
        "# evaluation function\n",
        "def eval(net, data_loader):\n",
        "    use_cuda = torch.cuda.is_available()\n",
        "    if use_cuda:\n",
        "        net = net.cuda()\n",
        "    net.eval()\n",
        "    correct = 0.0\n",
        "    num_images = 0.0\n",
        "    for i_batch, (images, labels) in enumerate(data_loader):\n",
        "        if use_cuda:\n",
        "            images = images.cuda()\n",
        "            labels = labels.cuda()\n",
        "        outs = net(images) \n",
        "        _, preds = outs.max(1)\n",
        "        correct += preds.eq(labels).sum()\n",
        "        num_images += len(labels)\n",
        "\n",
        "    acc = correct / num_images\n",
        "    return acc\n",
        "\n",
        "# training function\n",
        "def train(net, train_loader, valid_loader):\n",
        "    loss_function = torch.nn.CrossEntropyLoss()\n",
        "    # TODO: build your SGD optimizer with learning rate=0.01, momentum=0.9, no weight decay (0.5 points)\n",
        "    # your code here\n",
        "    optimizer = torch.optim.SGD(net.parameters(), lr=0.01, momentum=0.9, weight_decay=False)\n",
        "\n",
        "    use_cuda = torch.cuda.is_available()\n",
        "    if use_cuda:\n",
        "        net = net.cuda()\n",
        "        \n",
        "    epoches = 10\n",
        "    for epoch in range(epoches):\n",
        "        net.train() \n",
        "        correct = 0.0 # used to accumulate number of correctly recognized images\n",
        "        num_images = 0.0 # used to accumulate number of images\n",
        "        for i_batch, (images, labels) in enumerate(train_loader):\n",
        "            if use_cuda:\n",
        "                images = images.cuda()\n",
        "                labels = labels.cuda()\n",
        "            # TODO: rest of the training code\n",
        "            # your code here, including the forward propagation (0.75 points), \n",
        "            # backward propagation (0.75 points) and calculating the accuracy (0.5 points)\n",
        "            optimizer.zero_grad()\n",
        "            outputs = net(images)\n",
        "\n",
        "            loss = loss_function(outputs, labels)\n",
        "            loss.backward()\n",
        "\n",
        "            optimizer.step()\n",
        "            \n",
        "            _, preds = outputs.max(1)\n",
        "            correct += preds.eq(labels).sum()\n",
        "            num_images += len(labels)\n",
        "\n",
        "        acc = correct / num_images\n",
        "        acc_eval = eval(net, valid_loader)\n",
        "        print('epoch: %d, lr: %f, accuracy: %f, loss: %f, valid accuracy: %f' % (epoch, optimizer.param_groups[0]['lr'], acc, loss.item(), acc_eval))\n",
        "\n",
        "    return net"
      ]
    },
    {
      "cell_type": "markdown",
      "metadata": {
        "id": "jOp63yUd1L09"
      },
      "source": [
        "### Part 3.2. Train and test your network (<span style=\"color:green\">1.5 points</span>)"
      ]
    },
    {
      "cell_type": "code",
      "execution_count": null,
      "metadata": {
        "scrolled": true,
        "id": "YekHHQQ41L09"
      },
      "outputs": [],
      "source": [
        "print('Please wait patiently, it may take some seconds...')\n",
        "# TODO: train your network here (0.75 points)\n",
        "# your code here\n",
        "net.train(True)\n",
        "net = train(net, train_loader, valid_loader)\n",
        "\n",
        "# TODO: test your network here on testing data (0.75 points)\n",
        "# your code here\n",
        "net.train(False)\n",
        "acc_test = eval(net, test_loader)\n",
        "print('accuracy on testing data: %f' % acc_test) #  a reference output is provided below:"
      ]
    },
    {
      "cell_type": "markdown",
      "metadata": {
        "id": "gcaMR6Ve1L09"
      },
      "source": [
        "### Part 3.3. Modification for your training (<span style=\"color:green\">1 points or more</span>)\n",
        "Try the following tips to improve your network's performance:\n",
        "* Weight decay? (Please set a weight penalty in optimizer)\n",
        "* More epoches? \n",
        "* Maybe more convolutinal or fc layers? \n",
        "* Maybe use a shortcut in the convoluctional layer? (Refer to this [blog](https://towardsdatascience.com/an-overview-of-resnet-and-its-variants-5281e2f56035))\n",
        "\n",
        "**Note**: Each tip has 0.5 points, more tips used, more points you will get. You could come up with your own tips, and they should be reasonable, persuasive and implemented with your code."
      ]
    },
    {
      "cell_type": "code",
      "execution_count": null,
      "metadata": {
        "id": "FZhC72fW1L09"
      },
      "outputs": [],
      "source": [
        ""
      ]
    },
    {
      "cell_type": "markdown",
      "metadata": {
        "id": "syEnKDfB1L0-"
      },
      "source": [
        "###  Question: give your ideas to accelerate your training process (<span style=\"color:green\">1 points or more</span>)\n",
        "#### Your answer: (the first two is 0.5 points each, the rest is 0.25 points each. More ideas, more points, with the upper limit 2 points in total. Please also describe your idea at least for couple of sentences as the ideas should be reasonable and persuasive.)"
      ]
    },
    {
      "cell_type": "markdown",
      "metadata": {
        "id": "OV6D-gTN1L0-"
      },
      "source": [
        ""
      ]
    }
  ],
  "metadata": {
    "kernelspec": {
      "display_name": "Python 3",
      "language": "python",
      "name": "python3"
    },
    "language_info": {
      "codemirror_mode": {
        "name": "ipython",
        "version": 3
      },
      "file_extension": ".py",
      "mimetype": "text/x-python",
      "name": "python",
      "nbconvert_exporter": "python",
      "pygments_lexer": "ipython3",
      "version": "3.7.6"
    },
    "colab": {
      "name": "Assignment3_subam_chauhan_2771463.ipynb",
      "provenance": [],
      "collapsed_sections": [],
      "include_colab_link": true
    }
  },
  "nbformat": 4,
  "nbformat_minor": 0
}